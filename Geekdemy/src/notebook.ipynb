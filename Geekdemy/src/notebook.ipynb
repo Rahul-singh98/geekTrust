{
 "cells": [
  {
   "cell_type": "code",
   "execution_count": 1,
   "metadata": {},
   "outputs": [],
   "source": [
    "from programmes import *\n",
    "from coupons import *"
   ]
  },
  {
   "cell_type": "code",
   "execution_count": 2,
   "metadata": {},
   "outputs": [],
   "source": [
    "management_system = ManagementSystem()"
   ]
  },
  {
   "cell_type": "code",
   "execution_count": 3,
   "metadata": {},
   "outputs": [],
   "source": [
    "programme1 = ProgrammeDetails(\"CERTIFICATION\", 2)\n",
    "programme2 = ProgrammeDetails(\"DIPLOMA\", 1)\n",
    "programme3 = ProgrammeDetails(\"DEGREE\", 0)"
   ]
  },
  {
   "cell_type": "code",
   "execution_count": 4,
   "metadata": {},
   "outputs": [],
   "source": [
    "management_system.add_programme(programme1)\n",
    "management_system.add_programme(programme2)\n",
    "management_system.add_programme(programme3)"
   ]
  },
  {
   "cell_type": "code",
   "execution_count": 5,
   "metadata": {},
   "outputs": [
    {
     "data": {
      "text/plain": [
       "[<programmes.ProgrammeDetails at 0x7f78180c9850>,\n",
       " <programmes.ProgrammeDetails at 0x7f78180c97c0>,\n",
       " <programmes.ProgrammeDetails at 0x7f78180c98b0>]"
      ]
     },
     "execution_count": 5,
     "metadata": {},
     "output_type": "execute_result"
    }
   ],
   "source": [
    "management_system.get_programme()"
   ]
  },
  {
   "cell_type": "code",
   "execution_count": 6,
   "metadata": {},
   "outputs": [],
   "source": [
    "g5 = Coupon_G5()\n",
    "g20 = Coupon_G20()\n",
    "b4g1 = Coupon_B4G1()"
   ]
  },
  {
   "cell_type": "code",
   "execution_count": 7,
   "metadata": {},
   "outputs": [],
   "source": [
    "def print_course(_list):\n",
    "    for course in _list:\n",
    "        print(course.name, course.price)"
   ]
  },
  {
   "cell_type": "code",
   "execution_count": 8,
   "metadata": {},
   "outputs": [
    {
     "name": "stdout",
     "output_type": "stream",
     "text": [
      "Before promembership\n",
      "CERTIFICATION 6000.0\n",
      "DIPLOMA 2500.0\n",
      "DEGREE 0.0\n"
     ]
    }
   ],
   "source": [
    "print(\"Before promembership\")\n",
    "print_course(management_system.get_programme())"
   ]
  },
  {
   "cell_type": "code",
   "execution_count": 9,
   "metadata": {},
   "outputs": [],
   "source": [
    "management_system.add_promembership()"
   ]
  },
  {
   "cell_type": "code",
   "execution_count": 10,
   "metadata": {},
   "outputs": [
    {
     "name": "stdout",
     "output_type": "stream",
     "text": [
      "After promembership\n",
      "CERTIFICATION 5880.0\n",
      "DIPLOMA 2475.0\n",
      "DEGREE 0.0\n"
     ]
    }
   ],
   "source": [
    "print(\"After promembership\")\n",
    "print_course(management_system.get_programme())"
   ]
  },
  {
   "cell_type": "code",
   "execution_count": 11,
   "metadata": {},
   "outputs": [
    {
     "data": {
      "text/plain": [
       "True"
      ]
     },
     "execution_count": 11,
     "metadata": {},
     "output_type": "execute_result"
    }
   ],
   "source": [
    "g5.is_applicable(management_system.get_programme())"
   ]
  },
  {
   "cell_type": "code",
   "execution_count": 12,
   "metadata": {},
   "outputs": [
    {
     "data": {
      "text/plain": [
       "False"
      ]
     },
     "execution_count": 12,
     "metadata": {},
     "output_type": "execute_result"
    }
   ],
   "source": [
    "g20.is_applicable(management_system.get_programme())"
   ]
  },
  {
   "cell_type": "code",
   "execution_count": 13,
   "metadata": {},
   "outputs": [
    {
     "data": {
      "text/plain": [
       "False"
      ]
     },
     "execution_count": 13,
     "metadata": {},
     "output_type": "execute_result"
    }
   ],
   "source": [
    "b4g1.is_applicable(management_system.get_programme())"
   ]
  },
  {
   "cell_type": "code",
   "execution_count": 14,
   "metadata": {},
   "outputs": [
    {
     "name": "stdout",
     "output_type": "stream",
     "text": [
      "None\n",
      "0\n"
     ]
    }
   ],
   "source": [
    "management_system.apply_coupons()\n",
    "print(management_system.coupon_name)\n",
    "print(management_system.coupon_discount)"
   ]
  }
 ],
 "metadata": {
  "interpreter": {
   "hash": "31f2aee4e71d21fbe5cf8b01ff0e069b9275f58929596ceb00d14d90e3e16cd6"
  },
  "kernelspec": {
   "display_name": "Python 3.8.10 64-bit",
   "language": "python",
   "name": "python3"
  },
  "language_info": {
   "codemirror_mode": {
    "name": "ipython",
    "version": 3
   },
   "file_extension": ".py",
   "mimetype": "text/x-python",
   "name": "python",
   "nbconvert_exporter": "python",
   "pygments_lexer": "ipython3",
   "version": "3.8.10"
  },
  "orig_nbformat": 4
 },
 "nbformat": 4,
 "nbformat_minor": 2
}
